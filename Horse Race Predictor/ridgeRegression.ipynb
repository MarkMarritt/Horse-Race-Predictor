{
 "cells": [
  {
   "cell_type": "code",
   "execution_count": 1,
   "metadata": {},
   "outputs": [
    {
     "name": "stdout",
     "output_type": "stream",
     "text": [
      "0\n"
     ]
    }
   ],
   "source": [
    "import numpy as np\n",
    "import pandas as pd\n",
    "\n",
    "df = pd.read_csv(\"MarksClean2.csv\")\n",
    "print(df.isna().sum().sum())\n"
   ]
  },
  {
   "cell_type": "code",
   "execution_count": 4,
   "metadata": {},
   "outputs": [],
   "source": [
    "def load_or_clean(clean=False, binaryPositions = False):\n",
    "    if clean:\n",
    "        print(\"Loading and cleaning dirty data...\")\n",
    "        df_pro = pd.read_excel('prosci_clean2.xlsx')\n",
    "        df_pro = clean_df(df_pro, binaryPositions)\n",
    "        print(\"Saving cleaned file...\")\n",
    "        df_pro.to_excel('prosci_clean2.xlsx')\n",
    "    else:\n",
    "        print(\"Loading cleaned data...\")\n",
    "        df_pro = pd.read_excel('prosci_clean.xlsx')\n",
    "    return df_pro\n",
    "\n",
    "\n",
    "def clean_df(df_pro, binaryPositions = False):\n",
    "    df_pro['Penalty'].fillna(0, inplace=True)\n",
    "    cols = [\"SameJockey\",\"ORWinner\",\"ORWins\",\"ORPlaced\",\"HighClassWin\", \"GradeWinner\", \n",
    "            \"TopRTypeJockey\", \"LastBestSpeed\", \"LastBestSpeed3\", \"LastBestForm\",  \"LastBestForm3\",\n",
    "            \"FutureEntry\", \"LastTimeWin\", \"NewTrain\", \"Noted\", \"SameCourse\", \"SameCourse_2\",\n",
    "            \"HighGradeWinner\", \"TopRTypeTrainer\", \"Select\", \"Short\"]\n",
    "    zeros = [\"HWM\", \"Travelled\", \"LastWM\", \"MinOdds\", \"MaxOdds\", \"AvgOdds\", \"LastWon\", \n",
    "                \"HcapCount\", \"OR\", \"Last_OR\", \"Form\", \"Speed\", \"OddsPos\", \"Wins\", \"Runs\",\n",
    "                \"HCrsWin\", \"HCrsRun\",\"HGngWin\", \"HGngRun\", \"HDisWin\", \"HDisRun\", \"HClassWin\", \"HClassRun\",\n",
    "                \"TCrseWin\", \"TCrseRun\", \"TRTypeWin\", \"TRTypeRun\", \"T14Win\", \"T14Run\", \"T30Win\",\n",
    "                \"T30Run\", \"T60Win\", \"T60Run\", \"TJWin\", \"TJRun\", \"JCrseWin\", \"JCrseRun\", \"JRTypeWin\",\n",
    "                \"JRTypeRun\", \"J14Win\", \"J14Run\",\"J30Win\", \"J30Run\", \"J60Win\", \"J60Run\", \"Fitness\", \"Ability\", \n",
    "                \"Conditions\", \"Market\", \"Vibes\",\"OCrseWin\", \"OCrseRun\", \"ORTypeWin\",\n",
    "                \"ORTypeRun\", \"O14Win\", \"O14Run\", \"O30Win\", \"O30Run\", \"O60Win\", \"O60Run\", \"SCrseWin\",\n",
    "                \"SCrseRun\", \"SRTypeWin\", \"SRTypeRun\", \"S14Win\" ]\n",
    "    # df_pro.drop(df_pro[df_pro['Performance'] == 0].index, inplace=True)\n",
    "    df_pro[cols] = df_pro[cols].replace({True: 1, False: 0})\n",
    "    df_pro[zeros] = df_pro[zeros].replace({np.nan: 0})\n",
    "    df_pro['ShrewdTrainer'].replace({'Y': 1, 'N': 0}, inplace=True)\n",
    "    df_pro['Gambled'].replace({'G': 1, np.nan: 0}, inplace=True)\n",
    "    df_pro['CatGradeWinner'].replace({'BOTH': 3, 'HIGH': 2, 'SAME': 1, np.nan: 0}, inplace=True)\n",
    "    df_pro['WellHcap'].replace({'negative': 1, 'neutral': 2, 'positive': 3, 'empty': 0, np.nan: 0}, inplace=True)\n",
    "    df_pro['CatClassWinner'].replace({'BOTH': 3, 'HIGH': 2, 'SAME': 1, np.nan: 0}, inplace=True)\n",
    "    df_pro['TForm'].replace({'C': 0, 'N': 1, 'H': 2}, inplace=True)\n",
    "    df_pro['JForm'].replace({'C': 0, 'N': 1, 'H': 2}, inplace=True)\n",
    "    df_pro[\"Position\"] = np.where(df_pro[\"Position\"] != 1, 0, 1)\n",
    "    # df_pro[df_pro.isna().any(axis=1)]\n",
    "    #marks changes\n",
    "    df_pro[\"Rank\"].replace({np.nan: 20.0},inplace = True)\n",
    "    df_pro[\"RaceType\"].replace({\"MAIDEN\" : 0, \"HANDICAP\" : 1, \"GRADED\" : 2, 'SELLING' : 3, 'LISTED' : 4, 'CLAIMING' : 5, np.nan: 6, \"OTHER\" : 6  }, inplace = True)\n",
    "    df_pro[\"FormRank\"].replace({np.nan:30.0}, inplace = True)\n",
    "    df_pro[\"SpeedRank\"].replace({np.nan:30.0}, inplace = True)\n",
    "    df_pro[\"ORRANK\"].replace({np.nan:30.0}, inplace = True)\n",
    "    df_pro[\"WeightRank\"].replace({np.nan:30.0}, inplace = True)\n",
    "\n",
    "    if binaryPositions == True:\n",
    "        df_pro.loc[df_pro[\"Position\"] > 1, \"Position\"] = 0\n",
    "    return df_pro"
   ]
  },
  {
   "cell_type": "code",
   "execution_count": 2,
   "metadata": {},
   "outputs": [],
   "source": [
    "cleanDF = df.dropna()\n",
    "\n",
    "cleanDF = cleanDF.drop(cleanDF[(cleanDF['Position'] > cleanDF['DecRunners'])].index)\n",
    "#cleanDF[\"PosPercentage\"] = cleanDF.loc[:, \"Position\"]\n",
    "#cleanDF[\"PosPercentage\"] = cleanDF[\"PosPercentage\"].div(cleanDF[\"DecRunners\"])\n",
    "\n",
    "cleanDF = cleanDF.drop(\"Unnamed: 0\", axis = \"columns\")"
   ]
  },
  {
   "cell_type": "code",
   "execution_count": 3,
   "metadata": {},
   "outputs": [],
   "source": [
    "USE_COLUMNS = [\n",
    "    # 'Raceid',\n",
    "    # 'Ability', \n",
    "    # 'Fitness',\n",
    "    # 'Conditions', \n",
    "    # 'Market', \n",
    "    # 'Rank',\n",
    "    'Form', \n",
    "    'Speed', \n",
    "    # 'OddsPos', \n",
    "    'Wins', 'T14Win', 'T30Win',  'T60Win',  \n",
    "    \n",
    "    'HCrsWin', 'HGngWin', \"HDisWin\", \"HClassWin\", 'TCrseWin', 'TRTypeWin',\n",
    "    'TJWin', 'JCrseWin',  'JRTypeWin', 'J14Win', \n",
    "    'J30Win',  'J60Win',   'OCrseWin', 'ORTypeWin', 'O14Win', 'O30Win',\n",
    "    'HHcapWin', 'JBreakWins',   'JDebutWins',  'JHGBackWins',  'JHGFirstWins',\n",
    "    'O60Win', 'SCrseWin',  'SRTypeWin',  'S14Win', 'S30Win', 'S60Win', \n",
    "    'SRGoingWin', 'SRDistanceWin', 'JHGHcp1sttWins',\n",
    "    'TBreakWins',  'TDebutWins',  'THGBackWins',\n",
    "    'THGFirstWins', 'THGHcp1sttWins', 'HorseTypeWins', 'JockeyTypeWins', 'TrainerTypeWins',\n",
    "    'ORWins',  'ORPlaced', 'ORPlaces', 'LastRaceWins', \n",
    "    'LastPerf', 'LastPerf_2','JAllow',  \n",
    "    'FormRank', 'SpeedRank', 'ORRank',  'WeightRank',  \n",
    "    'FormImproved', 'SpeedImproved', 'ORImproved',  \n",
    "    'ORWinner',  'SameJockey', \n",
    "    'HighClassWin', 'GradeWinner', 'HighGradeWinner',\n",
    "    'TopRTypeJockey', 'ShrewdTrainer', 'TopRTypeTrainer', \n",
    "    'NewTrain', 'Noted', 'LastBestSpeed',  'LastBestSpeed3', 'LastBestForm', 'LastBestForm3',\n",
    "    'Gambled', 'FutureEntry',\n",
    "    'LastTimeWin', 'LastWin', 'RunsSinceGelded', 'SameCourse_2', 'Penalty',\n",
    "    'SRClassWin',\n",
    "    # 'DrawWins',    \n",
    "    'LastWon', 'RunsSince', 'HcapCount', 'HWM', 'CatClassWinner',\n",
    "    'CatGradeWinner', 'SameCourse',\n",
    "    'WellHcap', 'TForm', 'JForm', \n",
    "    # 'GreenShoes', 'AmberShoes', 'RedShoes',\n",
    "    # 'Tips', \n",
    "    # 'Select', \n",
    "    # 'Short', \n",
    "    'RPBlue',\n",
    "    'LastRan', \n",
    "    'OR', 'Last_OR', 'LastWM',\n",
    "    # 'DecOdds',\n",
    "    # 'MinOdds', 'MaxOdds', 'AvgOdds', \n",
    "    # 'DecRunners',\n",
    "    #  'Travelled',\n",
    "    # 'JockeyRides', 'TrainerRuns', \n",
    "    # 'Runs', 'HCrsRun', 'HGngRun',  'HDisRun', 'HClassRun', 'TCrseRun', 'TRTypeRun',\n",
    "    # 'T14Run', 'T60Run', \n",
    "    # 'HTotPrize', \n",
    "    # 'TJRun',  'JCrseRun',  'JRTypeRun',\n",
    "    # 'J14Run', 'J30Run', 'J60Run',\n",
    "    # 'OCrseRun',  'ORTypeRun', 'O30Run', \n",
    "    #  'O60Run', 'SCrseRun', 'SRTypeRun', 'S14Run',\n",
    "    # 'S30Run', 'S60Run', \n",
    "    # 'HHcapRun', 'JBreakRuns', 'JDebutRuns', 'JHGBackRuns', 'BrkRuns',\n",
    "    # 'NumPlaces', \n",
    "    # 'SRGoingRun',  'SRDistanceRun',  'SRClassRun',   'DrawRuns',\n",
    "    # 'JHGFirstRuns',  'JHGHcp1sttRuns',\n",
    "    # 'TBreakRuns', 'TDebutRuns', 'THGBackRuns',\n",
    "    #  'THGFirstRuns',  'THGHcp1sttRuns',  'HorseTypeRuns', 'JockeyTypeRuns', 'TrainerTypeRuns', \n",
    "    #'Position',\n",
    "    \"PosPercentage\"\n",
    "]\n"
   ]
  },
  {
   "cell_type": "code",
   "execution_count": 6,
   "metadata": {},
   "outputs": [],
   "source": [
    "import xgboost as xgb\n",
    "from sklearn.model_selection import train_test_split\n",
    "from sklearn.metrics import mean_squared_error as mse\n",
    "import tensorflow as tf\n",
    "lowImpactCols = [\"TopRTypeJockey\",\"LastTimeWin\", \"LastWin\", \"NewTrain\", \"HCrsWinRateScaled\", \"TopRTypeTrainer\", \"ORWinner\", \"HCrsWinRate\",\n",
    "                  \"O30Win\", \"CatClassWinner\", \"LastBestSpeed3\", \"SameCourse\", \"Penalty\", \"Place1\", \"HHcapRun\" ]\n",
    "oddsRelatedCols = [\"DecOdds\", \"Market\", \"OddsPos\", \"MinOdds\", \"AvgOdds\", \"MaxOdds\", \"RankFrac\", \"Vibes\", \"RedShoes\"]\n",
    "newDF = cleanDF.drop([\"RaceCode\",\"SubType\"], axis = \"columns\")\n",
    "newDF.drop(oddsRelatedCols, axis=\"columns\", inplace=True)\n",
    "newDF = newDF#[USE_COLUMNS]\n",
    "temp = newDF[\"Position\"]\n",
    "newDF.drop(\"Position\", axis = \"columns\", inplace=True)\n",
    "newDF[\"Position\"] = temp\n",
    "X, y = newDF.iloc[:, :-1], newDF.iloc[:, -1]\n"
   ]
  },
  {
   "cell_type": "code",
   "execution_count": 4,
   "metadata": {},
   "outputs": [
    {
     "name": "stdout",
     "output_type": "stream",
     "text": [
      "11.60987416776853\n",
      "3.4073265425797583\n"
     ]
    }
   ],
   "source": [
    "split = int(len(X) * 0.8)\n",
    "from sklearn.linear_model import Ridge\n",
    "from sklearn.pipeline import make_pipeline\n",
    "from sklearn.model_selection import cross_val_score\n",
    "from matplotlib import pyplot as plt\n",
    "#split data\n",
    "trainX, testX = X[:split], X[split:]\n",
    "trainY, testY = y[:split], y[split:]\n",
    "model = Ridge(alpha=0)\n",
    "model.fit(trainX, trainY)\n",
    "prediction = model.predict(testX)\n",
    "print(mse(prediction, testY))\n",
    "print(np.sqrt(mse(prediction, testY)))\n",
    "\n"
   ]
  },
  {
   "cell_type": "code",
   "execution_count": 5,
   "metadata": {},
   "outputs": [
    {
     "data": {
      "image/png": "[encoded data removed]",
      "text/plain": [
       "<Figure size 640x480 with 1 Axes>"
      ]
     },
     "metadata": {},
     "output_type": "display_data"
    }
   ],
   "source": [
    "from matplotlib import pyplot as plt\n",
    "\n",
    "plt.scatter(prediction, testY, s= 0.01)\n",
    "plt.xlim([0, 30]) # even t\n",
    "plt.show()"
   ]
  },
  {
   "cell_type": "code",
   "execution_count": 17,
   "metadata": {},
   "outputs": [],
   "source": [
    "def roi(odds, position, prediction):\n",
    "    frame = {\"oods\": np.array(odds),\n",
    "             \"position\" : np.array(position),\n",
    "             \"prediction\":  np.array(prediction)}\n",
    "    frame = pd.DataFrame(frame)\n",
    "    frame = frame.drop(frame[frame[\"prediction\"] != 1].index)\n",
    "    bets = len(frame)\n",
    "    frame2 = frame.drop(frame[frame[\"position\"] != frame[\"prediction\"]].index)\n",
    "    returns = frame2[\"oods\"].sum()\n",
    "    return returns - bets, bets, frame\n",
    "\n"
   ]
  },
  {
   "cell_type": "code",
   "execution_count": 22,
   "metadata": {},
   "outputs": [
    {
     "name": "stdout",
     "output_type": "stream",
     "text": [
      "[ 9  5 10 ...  3  5  5]\n",
      "0.13222689900333676\n",
      "-2.549999999999727 1199\n"
     ]
    }
   ],
   "source": [
    "#testOdds = testX[\"DecOdds\"]\n",
    "testOdds = cleanDF[cleanDF.index.isin(testY.index)][\"DecOdds\"]\n",
    "positions = cleanDF[\"Position\"]\n",
    "testPos = positions[split:]\n",
    "#runners = np.array(testX[\"DecRunners\"])\n",
    "#runners = np.array(cleanDF[cleanDF.index.isin(testY.index)][\"DecRunners\"])\n",
    "prediction = np.array(prediction).reshape(len(prediction))\n",
    "predictionInt = (prediction).astype(int)\n",
    "\n",
    "from sklearn.metrics import accuracy_score\n",
    "print(predictionInt)\n",
    "returns, bets, frame = roi(testOdds, testPos, predictionInt)\n",
    "print(accuracy_score(testPos, predictionInt))\n",
    "print(returns, bets)"
   ]
  },
  {
   "cell_type": "code",
   "execution_count": 9,
   "metadata": {},
   "outputs": [],
   "source": [
    "import pickle\n",
    "with open(\"ridgeNoOdds.obj\", \"wb\") as outFile:\n",
    "    pickle.dump(model, outFile)"
   ]
  }
 ],
 "metadata": {
  "kernelspec": {
   "display_name": "Python 3",
   "language": "python",
   "name": "python3"
  },
  "language_info": {
   "codemirror_mode": {
    "name": "ipython",
    "version": 3
   },
   "file_extension": ".py",
   "mimetype": "text/x-python",
   "name": "python",
   "nbconvert_exporter": "python",
   "pygments_lexer": "ipython3",
   "version": "3.11.1"
  },
  "orig_nbformat": 4
 },
 "nbformat": 4,
 "nbformat_minor": 2
}
